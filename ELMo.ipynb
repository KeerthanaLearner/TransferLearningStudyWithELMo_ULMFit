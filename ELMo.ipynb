{
  "nbformat": 4,
  "nbformat_minor": 0,
  "metadata": {
    "colab": {
      "provenance": []
    },
    "kernelspec": {
      "name": "python3",
      "display_name": "Python 3"
    }
  },
  "cells": [
    {
      "cell_type": "markdown",
      "source": [
        "ELMo embeddings, developed at Allen NLP, are one of many great pre-trained models available on Tensorflow Hub. ELMo embeddings are learned from the internal state of a bidirectional LSTM and represent contextual features of the input text. It’s been shown to outperform GloVe and Word2Vec embeddings on a wide variety of NLP tasks"
      ],
      "metadata": {
        "id": "nj0wCrFQ3qY1"
      }
    },
    {
      "cell_type": "code",
      "metadata": {
        "id": "wfWTbo1Sctng",
        "colab": {
          "base_uri": "https://localhost:8080/"
        },
        "outputId": "4a657e82-4dc6-4b47-de64-a31bd9c915c6"
      },
      "source": [
        "! pip install nltk\n",
        "# NLTK is a standard python library that provides a set of diverse algorithms for NLP.\n",
        "#It is one of the most used libraries for NLP and Computational Linguistics"
      ],
      "execution_count": null,
      "outputs": [
        {
          "output_type": "stream",
          "name": "stdout",
          "text": [
            "Requirement already satisfied: nltk in /usr/local/lib/python3.7/dist-packages (3.2.5)\n",
            "Requirement already satisfied: six in /usr/local/lib/python3.7/dist-packages (from nltk) (1.15.0)\n"
          ]
        }
      ]
    },
    {
      "cell_type": "code",
      "source": [
        "# Keras ELMO implementation requires older version of Tensorflow. Make sure to run this and restart your kernal.\n",
        "# Do not run this on local jupyter notebook. Use Google Colab or Cloud Notebooks with GPU's\n",
        "!pip install tensorflow==1.15\n",
        "!pip install \"tensorflow_hub>=0.6.0\"\n",
        "#TF.Text is a TensorFlow library of text related ops, modules, and subgraphs. The library can perform the\n",
        "# preprocessing regularly required by text-based models, and includes other features useful for sequence\n",
        "# modeling not provided by core TensorFlow.\n",
        "!pip3 install tensorflow_text==1.15"
      ],
      "metadata": {
        "colab": {
          "base_uri": "https://localhost:8080/"
        },
        "id": "wW2ZNF05Rv5n",
        "outputId": "5858c640-bbdc-45fb-8382-6c7642595665"
      },
      "execution_count": null,
      "outputs": [
        {
          "output_type": "stream",
          "name": "stdout",
          "text": [
            "Collecting tensorflow==1.15\n",
            "  Downloading tensorflow-1.15.0-cp37-cp37m-manylinux2010_x86_64.whl (412.3 MB)\n",
            "\u001b[K     |████████████████████████████████| 412.3 MB 23 kB/s \n",
            "\u001b[?25hCollecting gast==0.2.2\n",
            "  Downloading gast-0.2.2.tar.gz (10 kB)\n",
            "Requirement already satisfied: protobuf>=3.6.1 in /usr/local/lib/python3.7/dist-packages (from tensorflow==1.15) (3.17.3)\n",
            "Requirement already satisfied: google-pasta>=0.1.6 in /usr/local/lib/python3.7/dist-packages (from tensorflow==1.15) (0.2.0)\n",
            "Requirement already satisfied: wheel>=0.26 in /usr/local/lib/python3.7/dist-packages (from tensorflow==1.15) (0.37.1)\n",
            "Requirement already satisfied: six>=1.10.0 in /usr/local/lib/python3.7/dist-packages (from tensorflow==1.15) (1.15.0)\n",
            "Requirement already satisfied: termcolor>=1.1.0 in /usr/local/lib/python3.7/dist-packages (from tensorflow==1.15) (1.1.0)\n",
            "Requirement already satisfied: astor>=0.6.0 in /usr/local/lib/python3.7/dist-packages (from tensorflow==1.15) (0.8.1)\n",
            "Requirement already satisfied: keras-preprocessing>=1.0.5 in /usr/local/lib/python3.7/dist-packages (from tensorflow==1.15) (1.1.2)\n",
            "Requirement already satisfied: opt-einsum>=2.3.2 in /usr/local/lib/python3.7/dist-packages (from tensorflow==1.15) (3.3.0)\n",
            "Requirement already satisfied: wrapt>=1.11.1 in /usr/local/lib/python3.7/dist-packages (from tensorflow==1.15) (1.13.3)\n",
            "Requirement already satisfied: grpcio>=1.8.6 in /usr/local/lib/python3.7/dist-packages (from tensorflow==1.15) (1.43.0)\n",
            "Collecting keras-applications>=1.0.8\n",
            "  Downloading Keras_Applications-1.0.8-py3-none-any.whl (50 kB)\n",
            "\u001b[K     |████████████████████████████████| 50 kB 6.3 MB/s \n",
            "\u001b[?25hCollecting tensorboard<1.16.0,>=1.15.0\n",
            "  Downloading tensorboard-1.15.0-py3-none-any.whl (3.8 MB)\n",
            "\u001b[K     |████████████████████████████████| 3.8 MB 36.3 MB/s \n",
            "\u001b[?25hCollecting tensorflow-estimator==1.15.1\n",
            "  Downloading tensorflow_estimator-1.15.1-py2.py3-none-any.whl (503 kB)\n",
            "\u001b[K     |████████████████████████████████| 503 kB 23.9 MB/s \n",
            "\u001b[?25hRequirement already satisfied: absl-py>=0.7.0 in /usr/local/lib/python3.7/dist-packages (from tensorflow==1.15) (1.0.0)\n",
            "Requirement already satisfied: numpy<2.0,>=1.16.0 in /usr/local/lib/python3.7/dist-packages (from tensorflow==1.15) (1.19.5)\n",
            "Requirement already satisfied: h5py in /usr/local/lib/python3.7/dist-packages (from keras-applications>=1.0.8->tensorflow==1.15) (3.1.0)\n",
            "Requirement already satisfied: setuptools>=41.0.0 in /usr/local/lib/python3.7/dist-packages (from tensorboard<1.16.0,>=1.15.0->tensorflow==1.15) (57.4.0)\n",
            "Requirement already satisfied: markdown>=2.6.8 in /usr/local/lib/python3.7/dist-packages (from tensorboard<1.16.0,>=1.15.0->tensorflow==1.15) (3.3.6)\n",
            "Requirement already satisfied: werkzeug>=0.11.15 in /usr/local/lib/python3.7/dist-packages (from tensorboard<1.16.0,>=1.15.0->tensorflow==1.15) (1.0.1)\n",
            "Requirement already satisfied: importlib-metadata>=4.4 in /usr/local/lib/python3.7/dist-packages (from markdown>=2.6.8->tensorboard<1.16.0,>=1.15.0->tensorflow==1.15) (4.10.1)\n",
            "Requirement already satisfied: typing-extensions>=3.6.4 in /usr/local/lib/python3.7/dist-packages (from importlib-metadata>=4.4->markdown>=2.6.8->tensorboard<1.16.0,>=1.15.0->tensorflow==1.15) (3.10.0.2)\n",
            "Requirement already satisfied: zipp>=0.5 in /usr/local/lib/python3.7/dist-packages (from importlib-metadata>=4.4->markdown>=2.6.8->tensorboard<1.16.0,>=1.15.0->tensorflow==1.15) (3.7.0)\n",
            "Requirement already satisfied: cached-property in /usr/local/lib/python3.7/dist-packages (from h5py->keras-applications>=1.0.8->tensorflow==1.15) (1.5.2)\n",
            "Building wheels for collected packages: gast\n",
            "  Building wheel for gast (setup.py) ... \u001b[?25l\u001b[?25hdone\n",
            "  Created wheel for gast: filename=gast-0.2.2-py3-none-any.whl size=7554 sha256=50997e5008ad7d791c0a466ac826f2deea1a80e1cecaf57e3916007b4b368b3b\n",
            "  Stored in directory: /root/.cache/pip/wheels/21/7f/02/420f32a803f7d0967b48dd823da3f558c5166991bfd204eef3\n",
            "Successfully built gast\n",
            "Installing collected packages: tensorflow-estimator, tensorboard, keras-applications, gast, tensorflow\n",
            "  Attempting uninstall: tensorflow-estimator\n",
            "    Found existing installation: tensorflow-estimator 2.7.0\n",
            "    Uninstalling tensorflow-estimator-2.7.0:\n",
            "      Successfully uninstalled tensorflow-estimator-2.7.0\n",
            "  Attempting uninstall: tensorboard\n",
            "    Found existing installation: tensorboard 2.7.0\n",
            "    Uninstalling tensorboard-2.7.0:\n",
            "      Successfully uninstalled tensorboard-2.7.0\n",
            "  Attempting uninstall: gast\n",
            "    Found existing installation: gast 0.4.0\n",
            "    Uninstalling gast-0.4.0:\n",
            "      Successfully uninstalled gast-0.4.0\n",
            "  Attempting uninstall: tensorflow\n",
            "    Found existing installation: tensorflow 2.7.0\n",
            "    Uninstalling tensorflow-2.7.0:\n",
            "      Successfully uninstalled tensorflow-2.7.0\n",
            "\u001b[31mERROR: pip's dependency resolver does not currently take into account all the packages that are installed. This behaviour is the source of the following dependency conflicts.\n",
            "tensorflow-probability 0.15.0 requires gast>=0.3.2, but you have gast 0.2.2 which is incompatible.\n",
            "kapre 0.3.7 requires tensorflow>=2.0.0, but you have tensorflow 1.15.0 which is incompatible.\u001b[0m\n",
            "Successfully installed gast-0.2.2 keras-applications-1.0.8 tensorboard-1.15.0 tensorflow-1.15.0 tensorflow-estimator-1.15.1\n",
            "Requirement already satisfied: tensorflow_hub>=0.6.0 in /usr/local/lib/python3.7/dist-packages (0.12.0)\n",
            "Requirement already satisfied: numpy>=1.12.0 in /usr/local/lib/python3.7/dist-packages (from tensorflow_hub>=0.6.0) (1.19.5)\n",
            "Requirement already satisfied: protobuf>=3.8.0 in /usr/local/lib/python3.7/dist-packages (from tensorflow_hub>=0.6.0) (3.17.3)\n",
            "Requirement already satisfied: six>=1.9 in /usr/local/lib/python3.7/dist-packages (from protobuf>=3.8.0->tensorflow_hub>=0.6.0) (1.15.0)\n",
            "Collecting tensorflow_text==1.15\n",
            "  Downloading tensorflow_text-1.15.0-cp37-cp37m-manylinux1_x86_64.whl (9.1 MB)\n",
            "\u001b[K     |████████████████████████████████| 9.1 MB 5.3 MB/s \n",
            "\u001b[?25hRequirement already satisfied: tensorflow<1.16,>=1.15.0 in /usr/local/lib/python3.7/dist-packages (from tensorflow_text==1.15) (1.15.0)\n",
            "Requirement already satisfied: termcolor>=1.1.0 in /usr/local/lib/python3.7/dist-packages (from tensorflow<1.16,>=1.15.0->tensorflow_text==1.15) (1.1.0)\n",
            "Requirement already satisfied: protobuf>=3.6.1 in /usr/local/lib/python3.7/dist-packages (from tensorflow<1.16,>=1.15.0->tensorflow_text==1.15) (3.17.3)\n",
            "Requirement already satisfied: absl-py>=0.7.0 in /usr/local/lib/python3.7/dist-packages (from tensorflow<1.16,>=1.15.0->tensorflow_text==1.15) (1.0.0)\n",
            "Requirement already satisfied: keras-preprocessing>=1.0.5 in /usr/local/lib/python3.7/dist-packages (from tensorflow<1.16,>=1.15.0->tensorflow_text==1.15) (1.1.2)\n",
            "Requirement already satisfied: grpcio>=1.8.6 in /usr/local/lib/python3.7/dist-packages (from tensorflow<1.16,>=1.15.0->tensorflow_text==1.15) (1.43.0)\n",
            "Requirement already satisfied: opt-einsum>=2.3.2 in /usr/local/lib/python3.7/dist-packages (from tensorflow<1.16,>=1.15.0->tensorflow_text==1.15) (3.3.0)\n",
            "Requirement already satisfied: gast==0.2.2 in /usr/local/lib/python3.7/dist-packages (from tensorflow<1.16,>=1.15.0->tensorflow_text==1.15) (0.2.2)\n",
            "Requirement already satisfied: numpy<2.0,>=1.16.0 in /usr/local/lib/python3.7/dist-packages (from tensorflow<1.16,>=1.15.0->tensorflow_text==1.15) (1.19.5)\n",
            "Requirement already satisfied: tensorboard<1.16.0,>=1.15.0 in /usr/local/lib/python3.7/dist-packages (from tensorflow<1.16,>=1.15.0->tensorflow_text==1.15) (1.15.0)\n",
            "Requirement already satisfied: tensorflow-estimator==1.15.1 in /usr/local/lib/python3.7/dist-packages (from tensorflow<1.16,>=1.15.0->tensorflow_text==1.15) (1.15.1)\n",
            "Requirement already satisfied: wrapt>=1.11.1 in /usr/local/lib/python3.7/dist-packages (from tensorflow<1.16,>=1.15.0->tensorflow_text==1.15) (1.13.3)\n",
            "Requirement already satisfied: astor>=0.6.0 in /usr/local/lib/python3.7/dist-packages (from tensorflow<1.16,>=1.15.0->tensorflow_text==1.15) (0.8.1)\n",
            "Requirement already satisfied: google-pasta>=0.1.6 in /usr/local/lib/python3.7/dist-packages (from tensorflow<1.16,>=1.15.0->tensorflow_text==1.15) (0.2.0)\n",
            "Requirement already satisfied: six>=1.10.0 in /usr/local/lib/python3.7/dist-packages (from tensorflow<1.16,>=1.15.0->tensorflow_text==1.15) (1.15.0)\n",
            "Requirement already satisfied: keras-applications>=1.0.8 in /usr/local/lib/python3.7/dist-packages (from tensorflow<1.16,>=1.15.0->tensorflow_text==1.15) (1.0.8)\n",
            "Requirement already satisfied: wheel>=0.26 in /usr/local/lib/python3.7/dist-packages (from tensorflow<1.16,>=1.15.0->tensorflow_text==1.15) (0.37.1)\n",
            "Requirement already satisfied: h5py in /usr/local/lib/python3.7/dist-packages (from keras-applications>=1.0.8->tensorflow<1.16,>=1.15.0->tensorflow_text==1.15) (3.1.0)\n",
            "Requirement already satisfied: setuptools>=41.0.0 in /usr/local/lib/python3.7/dist-packages (from tensorboard<1.16.0,>=1.15.0->tensorflow<1.16,>=1.15.0->tensorflow_text==1.15) (57.4.0)\n",
            "Requirement already satisfied: werkzeug>=0.11.15 in /usr/local/lib/python3.7/dist-packages (from tensorboard<1.16.0,>=1.15.0->tensorflow<1.16,>=1.15.0->tensorflow_text==1.15) (1.0.1)\n",
            "Requirement already satisfied: markdown>=2.6.8 in /usr/local/lib/python3.7/dist-packages (from tensorboard<1.16.0,>=1.15.0->tensorflow<1.16,>=1.15.0->tensorflow_text==1.15) (3.3.6)\n",
            "Requirement already satisfied: importlib-metadata>=4.4 in /usr/local/lib/python3.7/dist-packages (from markdown>=2.6.8->tensorboard<1.16.0,>=1.15.0->tensorflow<1.16,>=1.15.0->tensorflow_text==1.15) (4.10.1)\n",
            "Requirement already satisfied: typing-extensions>=3.6.4 in /usr/local/lib/python3.7/dist-packages (from importlib-metadata>=4.4->markdown>=2.6.8->tensorboard<1.16.0,>=1.15.0->tensorflow<1.16,>=1.15.0->tensorflow_text==1.15) (3.10.0.2)\n",
            "Requirement already satisfied: zipp>=0.5 in /usr/local/lib/python3.7/dist-packages (from importlib-metadata>=4.4->markdown>=2.6.8->tensorboard<1.16.0,>=1.15.0->tensorflow<1.16,>=1.15.0->tensorflow_text==1.15) (3.7.0)\n",
            "Requirement already satisfied: cached-property in /usr/local/lib/python3.7/dist-packages (from h5py->keras-applications>=1.0.8->tensorflow<1.16,>=1.15.0->tensorflow_text==1.15) (1.5.2)\n",
            "Installing collected packages: tensorflow-text\n",
            "Successfully installed tensorflow-text-1.15.0\n"
          ]
        }
      ]
    },
    {
      "cell_type": "code",
      "metadata": {
        "id": "MbREWBiU8VFw"
      },
      "source": [
        "# So, now we will import the modules from the libraries that we have just installed in Cell # 1\n",
        "import tensorflow as tf\n",
        "import tensorflow_hub as hub\n",
        "import tensorflow.keras.backend as K\n",
        "import numpy as np"
      ],
      "execution_count": null,
      "outputs": []
    },
    {
      "cell_type": "code",
      "metadata": {
        "id": "P97jiyM49FUz",
        "outputId": "a0b18917-6ff3-4dd8-ab75-000b32216fc4",
        "colab": {
          "base_uri": "https://localhost:8080/"
        }
      },
      "source": [
        "tf.__version__, np.__version__ # Using this command we can check the versions of tensorflow and numpy."
      ],
      "execution_count": null,
      "outputs": [
        {
          "output_type": "execute_result",
          "data": {
            "text/plain": [
              "('1.15.0', '1.19.5')"
            ]
          },
          "metadata": {},
          "execution_count": 4
        }
      ]
    },
    {
      "cell_type": "code",
      "metadata": {
        "id": "wRW3a8Sk8mgb"
      },
      "source": [
        "# Before we can use ELMO as model, we need to download the elmo module from TF HUB and encapsulate\n",
        "#that inside a class, such that it can be used as a Keras Layer.\n",
        "# Latest Version of ELMO Embeddings are here - https://tfhub.dev/google/elmo/3\n",
        "# For our demonstration, we are using version 2\n",
        "\n",
        "#Version 2 -->. Restricted trainable variables to the 4 scalar weights as described in the paper.\n",
        "#Version 3 --> Fix the default output by correctly ignoring padding during the mean pooling operation.\n",
        "#All other outputs and signatures are correct and unchanged.\n",
        "\n",
        "\n",
        "#Computes contextualized word representations using character-based word representations and bidirectional\n",
        "#LSTMs .\n",
        "#TF HUB modules supports inputs both in the form of raw text strings or tokenized text strings.\n",
        "#The outputs are fixed embeddings at each LSTM layer, a learnable aggregation of the 3 layers, and a\n",
        " #fixed mean-pooled vector representation of the input.\n",
        "# ElmoEmbeddingLayer is a child class of Layer class present in tf.keras.layers\n",
        "class ElmoEmbeddingLayer(tf.keras.layers.Layer):\n",
        "    \"\"\"Original Author Credit --- Taken from:\n",
        "    https://github.com/strongio/keras-elmo/blob/master/Elmo%20Keras.ipynb\"\"\"\n",
        "\n",
        "# The __init__ method lets the class initialize the object's attributes and serves no other purpose.\n",
        "# It is only used within classes\n",
        "    def __init__(self, **kwargs):\n",
        "       # the ELMO dimensions are set at 1024, which means the data fed to it, will be projected onto 1024 dimensions.\n",
        "        self.dimensions = 1024\n",
        "        super(ElmoEmbeddingLayer, self).__init__(**kwargs)\n",
        "\n",
        "    def build(self, input_shape):\n",
        "      # Downloading the ELMO Version 2 from TF HUB.\n",
        "      # We are setting trainable parameter to be True, since we will train our data with that.\n",
        "        self.elmo = hub.Module(\n",
        "            'https://tfhub.dev/google/elmo/2',\n",
        "            trainable=self.trainable,\n",
        "            name=\"{}_module\".format(self.name)\n",
        "        )\n",
        "        if self.trainable:\n",
        "          # Trainable True will automatically set empty placeholders for weights used during training\n",
        "          self._trainable_weights.extend(\n",
        "              tf.trainable_variables(scope=\"^{}_module/.*\".format(self.name))\n",
        "          #Returns all variables created with trainable=True.\n",
        "          #When passed trainable=True, the Variable() constructor automatically\n",
        "          #adds new variables to the graph collection\n",
        "          )\n",
        "        # Changed assuming trainable weights might be set using\n",
        "        super(ElmoEmbeddingLayer, self).build(input_shape)\n",
        "\n",
        "    def call(self, x, mask=None):\n",
        "      #Keras squeeze Removes dimensions of size 1 from the shape of a tensor. We are squeezing our input and\n",
        "      #cast them as strings\n",
        "      # while initializing our ELMO layer.\n",
        "        result = self.elmo(\n",
        "            K.squeeze(K.cast(x, tf.string), axis=1),\n",
        "            # Casting of keras tensor, a tensor with the same data as x but reduced dimensions\n",
        "            as_dict=True,\n",
        "            signature='default',\n",
        "        )['default']\n",
        "        return result\n",
        "\n",
        "    def compute_mask(self, inputs, mask=None):\n",
        "      # add padding to non uniform inputs before sending to model.\n",
        "      #this is general pre-processing step.\n",
        "        return K.not_equal(inputs, '--PAD--')\n",
        "        # Used to find element-wise inequality between two tensors, returns a bool tensor\n",
        "\n",
        "    def compute_output_shape(self, input_shape):\n",
        "        return (input_shape[0], self.dimensions)\n",
        "#-------------------------------------------------------- ElmoEmbedding Class ends here ------------------------------------------------\n",
        "\n",
        "def create_model(train_elmo=False):\n",
        "  # Create Sequential model\n",
        "  model = tf.keras.Sequential([\n",
        "      # Need to explicitly include input layer\n",
        "      # to allow keras to accept string input\n",
        "      # Taken from:\n",
        "      # https://gist.github.com/colinmorris/9183206284b4fe3179809098e809d009\n",
        "      tf.keras.layers.InputLayer(dtype='string', input_shape=(1,)),\n",
        "      # InputLayers is a layer to be used as an entry point into the network\n",
        "      ElmoEmbeddingLayer(trainable=train_elmo),\n",
        "      # A second layer is the model is elmo layer from the class ElmoEmbeddingLayer\n",
        "      tf.keras.layers.Dense(1)\n",
        "      # Third layer is dense layer in the model\n",
        "  ])\n",
        "\n",
        "  # Needed to initialize elmo variables\n",
        "  sess = K.get_session() # Returns a TensorFlow session to be used at the backend\n",
        "  init = tf.global_variables_initializer() # used to initialize the global variables\n",
        "  sess.run(init)\n",
        "\n",
        "  # Compile model\n",
        "  model.compile(\n",
        "      optimizer=\"adam\",\n",
        "      loss=\"binary_crossentropy\",\n",
        "      metrics=[\"accuracy\"]\n",
        "  )\n",
        "  return model\n",
        "\n",
        "\n"
      ],
      "execution_count": null,
      "outputs": []
    },
    {
      "cell_type": "markdown",
      "source": [
        "\"\"\"The output dictionary contains:\n",
        "\n",
        "- word_emb: the character-based word representations with shape [batch_size, max_length, 512].\n",
        "- lstm_outputs1: the first LSTM hidden state with shape [batch_size, max_length, 1024].\n",
        "- lstm_outputs2: the second LSTM hidden state with shape [batch_size, max_length, 1024].\n",
        "- elmo: the weighted sum of the 3 layers, where the weights are trainable. This tensor has shape\n",
        "        [batch_size, max_length, 1024]\n",
        "- default: a fixed mean-pooling of all contextualized word representations with shape [batch_size, 1024]\n",
        "\n",
        "\"\"\""
      ],
      "metadata": {
        "id": "e9egGEzRgCDg"
      }
    },
    {
      "cell_type": "code",
      "metadata": {
        "id": "37IaKUOP-Qdn",
        "outputId": "9faffe41-e2b0-4089-e14c-3ac0863b35ee",
        "colab": {
          "base_uri": "https://localhost:8080/"
        }
      },
      "source": [
        "model = create_model(train_elmo=True)\n",
        "# now we are calling the create model and get the model details\n",
        "# Building Model Object"
      ],
      "execution_count": null,
      "outputs": [
        {
          "output_type": "stream",
          "name": "stdout",
          "text": [
            "INFO:tensorflow:Saver not created because there are no variables in the graph to restore\n"
          ]
        },
        {
          "output_type": "stream",
          "name": "stderr",
          "text": [
            "INFO:tensorflow:Saver not created because there are no variables in the graph to restore\n"
          ]
        },
        {
          "output_type": "stream",
          "name": "stdout",
          "text": [
            "WARNING:tensorflow:From /usr/local/lib/python3.7/dist-packages/tensorflow_core/python/ops/resource_variable_ops.py:1630: calling BaseResourceVariable.__init__ (from tensorflow.python.ops.resource_variable_ops) with constraint is deprecated and will be removed in a future version.\n",
            "Instructions for updating:\n",
            "If using Keras pass *_constraint arguments to layers.\n"
          ]
        },
        {
          "output_type": "stream",
          "name": "stderr",
          "text": [
            "WARNING:tensorflow:From /usr/local/lib/python3.7/dist-packages/tensorflow_core/python/ops/resource_variable_ops.py:1630: calling BaseResourceVariable.__init__ (from tensorflow.python.ops.resource_variable_ops) with constraint is deprecated and will be removed in a future version.\n",
            "Instructions for updating:\n",
            "If using Keras pass *_constraint arguments to layers.\n"
          ]
        }
      ]
    },
    {
      "cell_type": "markdown",
      "source": [
        "#it_nldlnpdj_04_enus_09"
      ],
      "metadata": {
        "id": "wTQp9D8ZSwcV"
      }
    },
    {
      "cell_type": "code",
      "source": [
        "import pandas as pd\n",
        "# Loading our Product Review Dataset\n",
        "data = pd.read_csv(\"https://raw.githubusercontent.com/joshivaibhav/AmazonCustomerReview/master/amazondata.csv\")"
      ],
      "metadata": {
        "colab": {
          "base_uri": "https://localhost:8080/"
        },
        "id": "IsgIUnt_SoRs",
        "outputId": "50d91dd8-7255-409d-b3c8-c44a2562128b"
      },
      "execution_count": null,
      "outputs": [
        {
          "output_type": "stream",
          "name": "stderr",
          "text": [
            "/usr/local/lib/python3.7/dist-packages/IPython/core/interactiveshell.py:2718: DtypeWarning: Columns (1,2) have mixed types.Specify dtype option on import or set low_memory=False.\n",
            "  interactivity=interactivity, compiler=compiler, result=result)\n"
          ]
        }
      ]
    },
    {
      "cell_type": "code",
      "source": [
        "data.head(10)"
      ],
      "metadata": {
        "colab": {
          "base_uri": "https://localhost:8080/",
          "height": 789
        },
        "id": "o-S2_PmPSx54",
        "outputId": "0621cb9b-1ede-4ee6-e0f9-36e2f55697ec"
      },
      "execution_count": null,
      "outputs": [
        {
          "output_type": "execute_result",
          "data": {
            "text/html": [
              "\n",
              "  <div id=\"df-53c75745-ac5e-4e8b-aff0-604aab9f2101\">\n",
              "    <div class=\"colab-df-container\">\n",
              "      <div>\n",
              "<style scoped>\n",
              "    .dataframe tbody tr th:only-of-type {\n",
              "        vertical-align: middle;\n",
              "    }\n",
              "\n",
              "    .dataframe tbody tr th {\n",
              "        vertical-align: top;\n",
              "    }\n",
              "\n",
              "    .dataframe thead th {\n",
              "        text-align: right;\n",
              "    }\n",
              "</style>\n",
              "<table border=\"1\" class=\"dataframe\">\n",
              "  <thead>\n",
              "    <tr style=\"text-align: right;\">\n",
              "      <th></th>\n",
              "      <th>Helpful Votes (bin)</th>\n",
              "      <th>Number of Records</th>\n",
              "      <th>Star Rating (bin)</th>\n",
              "      <th>Customer Id</th>\n",
              "      <th>Helpful Votes</th>\n",
              "      <th>Overall Votes</th>\n",
              "      <th>Product Id</th>\n",
              "      <th>Review Body</th>\n",
              "      <th>Review Year</th>\n",
              "      <th>Review Headline</th>\n",
              "      <th>Star Rating</th>\n",
              "    </tr>\n",
              "  </thead>\n",
              "  <tbody>\n",
              "    <tr>\n",
              "      <th>0</th>\n",
              "      <td>0</td>\n",
              "      <td>1</td>\n",
              "      <td>0</td>\n",
              "      <td>NaN</td>\n",
              "      <td>4.0</td>\n",
              "      <td>14.0</td>\n",
              "      <td>26009102</td>\n",
              "      <td>You will love this book.  It is a hard long re...</td>\n",
              "      <td>03/17/2005 0:00</td>\n",
              "      <td>Best Book Ever</td>\n",
              "      <td>5.0</td>\n",
              "    </tr>\n",
              "    <tr>\n",
              "      <th>1</th>\n",
              "      <td>NaN</td>\n",
              "      <td>1</td>\n",
              "      <td>NaN</td>\n",
              "      <td>NaN</td>\n",
              "      <td>NaN</td>\n",
              "      <td>NaN</td>\n",
              "      <td>7491727</td>\n",
              "      <td>This is the UK edition of Dr. Omit's book. Dr....</td>\n",
              "      <td>NaN</td>\n",
              "      <td>researchers from John Hopkins School of Medici...</td>\n",
              "      <td>NaN</td>\n",
              "    </tr>\n",
              "    <tr>\n",
              "      <th>2</th>\n",
              "      <td>0</td>\n",
              "      <td>1</td>\n",
              "      <td>0</td>\n",
              "      <td>NaN</td>\n",
              "      <td>2.0</td>\n",
              "      <td>2.0</td>\n",
              "      <td>002782683X</td>\n",
              "      <td>This is a fun and entertaining book about lear...</td>\n",
              "      <td>06/25/2012 0:00</td>\n",
              "      <td>Michelle</td>\n",
              "      <td>5.0</td>\n",
              "    </tr>\n",
              "    <tr>\n",
              "      <th>3</th>\n",
              "      <td>0</td>\n",
              "      <td>1</td>\n",
              "      <td>0</td>\n",
              "      <td>NaN</td>\n",
              "      <td>0.0</td>\n",
              "      <td>0.0</td>\n",
              "      <td>60187271</td>\n",
              "      <td>Started a big slow, but once into it the autho...</td>\n",
              "      <td>06/09/2013 0:00</td>\n",
              "      <td>Loved the book</td>\n",
              "      <td>5.0</td>\n",
              "    </tr>\n",
              "    <tr>\n",
              "      <th>4</th>\n",
              "      <td>0</td>\n",
              "      <td>1</td>\n",
              "      <td>0</td>\n",
              "      <td>NaN</td>\n",
              "      <td>14.0</td>\n",
              "      <td>20.0</td>\n",
              "      <td>60392452</td>\n",
              "      <td>Received this book as a Christmas present. I h...</td>\n",
              "      <td>08/05/2003 0:00</td>\n",
              "      <td>Challenges your assumptions</td>\n",
              "      <td>4.0</td>\n",
              "    </tr>\n",
              "    <tr>\n",
              "      <th>5</th>\n",
              "      <td>NaN</td>\n",
              "      <td>1</td>\n",
              "      <td>NaN</td>\n",
              "      <td>NaN</td>\n",
              "      <td>NaN</td>\n",
              "      <td>NaN</td>\n",
              "      <td>60194480</td>\n",
              "      <td>-If you wonder \\Where did that promise of a pe...</td>\n",
              "      <td>NaN</td>\n",
              "      <td>then this book is your bible.This is not a his...</td>\n",
              "      <td>NaN</td>\n",
              "    </tr>\n",
              "    <tr>\n",
              "      <th>6</th>\n",
              "      <td>0</td>\n",
              "      <td>1</td>\n",
              "      <td>0</td>\n",
              "      <td>NaN</td>\n",
              "      <td>0.0</td>\n",
              "      <td>0.0</td>\n",
              "      <td>60569662</td>\n",
              "      <td>Ugly Impostor, discernible face, self esteem r...</td>\n",
              "      <td>09/20/2013 0:00</td>\n",
              "      <td>Reflections</td>\n",
              "      <td>5.0</td>\n",
              "    </tr>\n",
              "    <tr>\n",
              "      <th>7</th>\n",
              "      <td>0</td>\n",
              "      <td>1</td>\n",
              "      <td>0</td>\n",
              "      <td>NaN</td>\n",
              "      <td>3.0</td>\n",
              "      <td>4.0</td>\n",
              "      <td>2311216</td>\n",
              "      <td>I agree with those reviewers that believe that...</td>\n",
              "      <td>06/12/2004 0:00</td>\n",
              "      <td>Not a Thriller</td>\n",
              "      <td>2.0</td>\n",
              "    </tr>\n",
              "    <tr>\n",
              "      <th>8</th>\n",
              "      <td>0</td>\n",
              "      <td>1</td>\n",
              "      <td>0</td>\n",
              "      <td>NaN</td>\n",
              "      <td>0.0</td>\n",
              "      <td>0.0</td>\n",
              "      <td>25853503</td>\n",
              "      <td>Then I watch American Masters (PBS) featuring ...</td>\n",
              "      <td>04/28/2013 0:00</td>\n",
              "      <td>First read GWTW when I was in high school.  Sa...</td>\n",
              "      <td>5.0</td>\n",
              "    </tr>\n",
              "    <tr>\n",
              "      <th>9</th>\n",
              "      <td>NaN</td>\n",
              "      <td>1</td>\n",
              "      <td>NaN</td>\n",
              "      <td>NaN</td>\n",
              "      <td>NaN</td>\n",
              "      <td>NaN</td>\n",
              "      <td>006053821X</td>\n",
              "      <td>I am a fan of all of Tepper's books.  I had be...</td>\n",
              "      <td>NaN</td>\n",
              "      <td>I think.Over all a great read</td>\n",
              "      <td>NaN</td>\n",
              "    </tr>\n",
              "  </tbody>\n",
              "</table>\n",
              "</div>\n",
              "      <button class=\"colab-df-convert\" onclick=\"convertToInteractive('df-53c75745-ac5e-4e8b-aff0-604aab9f2101')\"\n",
              "              title=\"Convert this dataframe to an interactive table.\"\n",
              "              style=\"display:none;\">\n",
              "        \n",
              "  <svg xmlns=\"http://www.w3.org/2000/svg\" height=\"24px\"viewBox=\"0 0 24 24\"\n",
              "       width=\"24px\">\n",
              "    <path d=\"M0 0h24v24H0V0z\" fill=\"none\"/>\n",
              "    <path d=\"M18.56 5.44l.94 2.06.94-2.06 2.06-.94-2.06-.94-.94-2.06-.94 2.06-2.06.94zm-11 1L8.5 8.5l.94-2.06 2.06-.94-2.06-.94L8.5 2.5l-.94 2.06-2.06.94zm10 10l.94 2.06.94-2.06 2.06-.94-2.06-.94-.94-2.06-.94 2.06-2.06.94z\"/><path d=\"M17.41 7.96l-1.37-1.37c-.4-.4-.92-.59-1.43-.59-.52 0-1.04.2-1.43.59L10.3 9.45l-7.72 7.72c-.78.78-.78 2.05 0 2.83L4 21.41c.39.39.9.59 1.41.59.51 0 1.02-.2 1.41-.59l7.78-7.78 2.81-2.81c.8-.78.8-2.07 0-2.86zM5.41 20L4 18.59l7.72-7.72 1.47 1.35L5.41 20z\"/>\n",
              "  </svg>\n",
              "      </button>\n",
              "      \n",
              "  <style>\n",
              "    .colab-df-container {\n",
              "      display:flex;\n",
              "      flex-wrap:wrap;\n",
              "      gap: 12px;\n",
              "    }\n",
              "\n",
              "    .colab-df-convert {\n",
              "      background-color: #E8F0FE;\n",
              "      border: none;\n",
              "      border-radius: 50%;\n",
              "      cursor: pointer;\n",
              "      display: none;\n",
              "      fill: #1967D2;\n",
              "      height: 32px;\n",
              "      padding: 0 0 0 0;\n",
              "      width: 32px;\n",
              "    }\n",
              "\n",
              "    .colab-df-convert:hover {\n",
              "      background-color: #E2EBFA;\n",
              "      box-shadow: 0px 1px 2px rgba(60, 64, 67, 0.3), 0px 1px 3px 1px rgba(60, 64, 67, 0.15);\n",
              "      fill: #174EA6;\n",
              "    }\n",
              "\n",
              "    [theme=dark] .colab-df-convert {\n",
              "      background-color: #3B4455;\n",
              "      fill: #D2E3FC;\n",
              "    }\n",
              "\n",
              "    [theme=dark] .colab-df-convert:hover {\n",
              "      background-color: #434B5C;\n",
              "      box-shadow: 0px 1px 3px 1px rgba(0, 0, 0, 0.15);\n",
              "      filter: drop-shadow(0px 1px 2px rgba(0, 0, 0, 0.3));\n",
              "      fill: #FFFFFF;\n",
              "    }\n",
              "  </style>\n",
              "\n",
              "      <script>\n",
              "        const buttonEl =\n",
              "          document.querySelector('#df-53c75745-ac5e-4e8b-aff0-604aab9f2101 button.colab-df-convert');\n",
              "        buttonEl.style.display =\n",
              "          google.colab.kernel.accessAllowed ? 'block' : 'none';\n",
              "\n",
              "        async function convertToInteractive(key) {\n",
              "          const element = document.querySelector('#df-53c75745-ac5e-4e8b-aff0-604aab9f2101');\n",
              "          const dataTable =\n",
              "            await google.colab.kernel.invokeFunction('convertToInteractive',\n",
              "                                                     [key], {});\n",
              "          if (!dataTable) return;\n",
              "\n",
              "          const docLinkHtml = 'Like what you see? Visit the ' +\n",
              "            '<a target=\"_blank\" href=https://colab.research.google.com/notebooks/data_table.ipynb>data table notebook</a>'\n",
              "            + ' to learn more about interactive tables.';\n",
              "          element.innerHTML = '';\n",
              "          dataTable['output_type'] = 'display_data';\n",
              "          await google.colab.output.renderOutput(dataTable, element);\n",
              "          const docLink = document.createElement('div');\n",
              "          docLink.innerHTML = docLinkHtml;\n",
              "          element.appendChild(docLink);\n",
              "        }\n",
              "      </script>\n",
              "    </div>\n",
              "  </div>\n",
              "  "
            ],
            "text/plain": [
              "  Helpful Votes (bin)  ... Star Rating\n",
              "0                   0  ...         5.0\n",
              "1                 NaN  ...         NaN\n",
              "2                   0  ...         5.0\n",
              "3                   0  ...         5.0\n",
              "4                   0  ...         4.0\n",
              "5                 NaN  ...         NaN\n",
              "6                   0  ...         5.0\n",
              "7                   0  ...         2.0\n",
              "8                   0  ...         5.0\n",
              "9                 NaN  ...         NaN\n",
              "\n",
              "[10 rows x 11 columns]"
            ]
          },
          "metadata": {},
          "execution_count": 8
        }
      ]
    },
    {
      "cell_type": "markdown",
      "source": [
        "Doing basic pre-processing.\n",
        "\n",
        "Subsetting only Rating 5 (Positive) and 1 (Negative)\n",
        "\n",
        "Subsetting only Review and Rating"
      ],
      "metadata": {
        "id": "nyTTFXjChadV"
      }
    },
    {
      "cell_type": "code",
      "source": [
        "data_subset = data[(data['Star Rating']==5) | (data['Star Rating']==1)]\n",
        "# total 11 cols and 1,28,845 rows, subset for star rating 1 and 5 only"
      ],
      "metadata": {
        "id": "v77IHCLzS4Ok"
      },
      "execution_count": null,
      "outputs": []
    },
    {
      "cell_type": "code",
      "source": [
        "data_subset = data_subset[['Review Body','Star Rating']]\n",
        "# subset for only two columns Review body and star rating\n"
      ],
      "metadata": {
        "id": "jfpm-zl2TC0t"
      },
      "execution_count": null,
      "outputs": []
    },
    {
      "cell_type": "code",
      "source": [
        "data_subset.shape\n",
        "#Return a tuple representing the dimensionality of the DataFrame. (Rows, Cols)"
      ],
      "metadata": {
        "colab": {
          "base_uri": "https://localhost:8080/"
        },
        "id": "rSpZns2QTP_Z",
        "outputId": "ecf374bc-d793-4db7-ebda-7d8d897b84a0"
      },
      "execution_count": null,
      "outputs": [
        {
          "output_type": "execute_result",
          "data": {
            "text/plain": [
              "(78665, 2)"
            ]
          },
          "metadata": {},
          "execution_count": 11
        }
      ]
    },
    {
      "cell_type": "code",
      "source": [
        "data_subset.head(10) # Display the first 10 enteries"
      ],
      "metadata": {
        "colab": {
          "base_uri": "https://localhost:8080/",
          "height": 363
        },
        "id": "ZntyhxJITS3y",
        "outputId": "c49e3e78-963c-4e1c-a895-5e0702cea04c"
      },
      "execution_count": null,
      "outputs": [
        {
          "output_type": "execute_result",
          "data": {
            "text/html": [
              "\n",
              "  <div id=\"df-244bf152-2601-4121-a25c-24fc6f7e57c2\">\n",
              "    <div class=\"colab-df-container\">\n",
              "      <div>\n",
              "<style scoped>\n",
              "    .dataframe tbody tr th:only-of-type {\n",
              "        vertical-align: middle;\n",
              "    }\n",
              "\n",
              "    .dataframe tbody tr th {\n",
              "        vertical-align: top;\n",
              "    }\n",
              "\n",
              "    .dataframe thead th {\n",
              "        text-align: right;\n",
              "    }\n",
              "</style>\n",
              "<table border=\"1\" class=\"dataframe\">\n",
              "  <thead>\n",
              "    <tr style=\"text-align: right;\">\n",
              "      <th></th>\n",
              "      <th>Review Body</th>\n",
              "      <th>Star Rating</th>\n",
              "    </tr>\n",
              "  </thead>\n",
              "  <tbody>\n",
              "    <tr>\n",
              "      <th>0</th>\n",
              "      <td>You will love this book.  It is a hard long re...</td>\n",
              "      <td>5.0</td>\n",
              "    </tr>\n",
              "    <tr>\n",
              "      <th>2</th>\n",
              "      <td>This is a fun and entertaining book about lear...</td>\n",
              "      <td>5.0</td>\n",
              "    </tr>\n",
              "    <tr>\n",
              "      <th>3</th>\n",
              "      <td>Started a big slow, but once into it the autho...</td>\n",
              "      <td>5.0</td>\n",
              "    </tr>\n",
              "    <tr>\n",
              "      <th>6</th>\n",
              "      <td>Ugly Impostor, discernible face, self esteem r...</td>\n",
              "      <td>5.0</td>\n",
              "    </tr>\n",
              "    <tr>\n",
              "      <th>8</th>\n",
              "      <td>Then I watch American Masters (PBS) featuring ...</td>\n",
              "      <td>5.0</td>\n",
              "    </tr>\n",
              "    <tr>\n",
              "      <th>10</th>\n",
              "      <td>My granddaughter got me interested bin this se...</td>\n",
              "      <td>5.0</td>\n",
              "    </tr>\n",
              "    <tr>\n",
              "      <th>15</th>\n",
              "      <td>I discovered this book just a few days after 9...</td>\n",
              "      <td>5.0</td>\n",
              "    </tr>\n",
              "    <tr>\n",
              "      <th>16</th>\n",
              "      <td>This rewrite of an older story is a vast impro...</td>\n",
              "      <td>5.0</td>\n",
              "    </tr>\n",
              "    <tr>\n",
              "      <th>18</th>\n",
              "      <td>An incedibly well written book. His writing is...</td>\n",
              "      <td>5.0</td>\n",
              "    </tr>\n",
              "    <tr>\n",
              "      <th>19</th>\n",
              "      <td>Great book with lots of twists and turns.  One...</td>\n",
              "      <td>5.0</td>\n",
              "    </tr>\n",
              "  </tbody>\n",
              "</table>\n",
              "</div>\n",
              "      <button class=\"colab-df-convert\" onclick=\"convertToInteractive('df-244bf152-2601-4121-a25c-24fc6f7e57c2')\"\n",
              "              title=\"Convert this dataframe to an interactive table.\"\n",
              "              style=\"display:none;\">\n",
              "        \n",
              "  <svg xmlns=\"http://www.w3.org/2000/svg\" height=\"24px\"viewBox=\"0 0 24 24\"\n",
              "       width=\"24px\">\n",
              "    <path d=\"M0 0h24v24H0V0z\" fill=\"none\"/>\n",
              "    <path d=\"M18.56 5.44l.94 2.06.94-2.06 2.06-.94-2.06-.94-.94-2.06-.94 2.06-2.06.94zm-11 1L8.5 8.5l.94-2.06 2.06-.94-2.06-.94L8.5 2.5l-.94 2.06-2.06.94zm10 10l.94 2.06.94-2.06 2.06-.94-2.06-.94-.94-2.06-.94 2.06-2.06.94z\"/><path d=\"M17.41 7.96l-1.37-1.37c-.4-.4-.92-.59-1.43-.59-.52 0-1.04.2-1.43.59L10.3 9.45l-7.72 7.72c-.78.78-.78 2.05 0 2.83L4 21.41c.39.39.9.59 1.41.59.51 0 1.02-.2 1.41-.59l7.78-7.78 2.81-2.81c.8-.78.8-2.07 0-2.86zM5.41 20L4 18.59l7.72-7.72 1.47 1.35L5.41 20z\"/>\n",
              "  </svg>\n",
              "      </button>\n",
              "      \n",
              "  <style>\n",
              "    .colab-df-container {\n",
              "      display:flex;\n",
              "      flex-wrap:wrap;\n",
              "      gap: 12px;\n",
              "    }\n",
              "\n",
              "    .colab-df-convert {\n",
              "      background-color: #E8F0FE;\n",
              "      border: none;\n",
              "      border-radius: 50%;\n",
              "      cursor: pointer;\n",
              "      display: none;\n",
              "      fill: #1967D2;\n",
              "      height: 32px;\n",
              "      padding: 0 0 0 0;\n",
              "      width: 32px;\n",
              "    }\n",
              "\n",
              "    .colab-df-convert:hover {\n",
              "      background-color: #E2EBFA;\n",
              "      box-shadow: 0px 1px 2px rgba(60, 64, 67, 0.3), 0px 1px 3px 1px rgba(60, 64, 67, 0.15);\n",
              "      fill: #174EA6;\n",
              "    }\n",
              "\n",
              "    [theme=dark] .colab-df-convert {\n",
              "      background-color: #3B4455;\n",
              "      fill: #D2E3FC;\n",
              "    }\n",
              "\n",
              "    [theme=dark] .colab-df-convert:hover {\n",
              "      background-color: #434B5C;\n",
              "      box-shadow: 0px 1px 3px 1px rgba(0, 0, 0, 0.15);\n",
              "      filter: drop-shadow(0px 1px 2px rgba(0, 0, 0, 0.3));\n",
              "      fill: #FFFFFF;\n",
              "    }\n",
              "  </style>\n",
              "\n",
              "      <script>\n",
              "        const buttonEl =\n",
              "          document.querySelector('#df-244bf152-2601-4121-a25c-24fc6f7e57c2 button.colab-df-convert');\n",
              "        buttonEl.style.display =\n",
              "          google.colab.kernel.accessAllowed ? 'block' : 'none';\n",
              "\n",
              "        async function convertToInteractive(key) {\n",
              "          const element = document.querySelector('#df-244bf152-2601-4121-a25c-24fc6f7e57c2');\n",
              "          const dataTable =\n",
              "            await google.colab.kernel.invokeFunction('convertToInteractive',\n",
              "                                                     [key], {});\n",
              "          if (!dataTable) return;\n",
              "\n",
              "          const docLinkHtml = 'Like what you see? Visit the ' +\n",
              "            '<a target=\"_blank\" href=https://colab.research.google.com/notebooks/data_table.ipynb>data table notebook</a>'\n",
              "            + ' to learn more about interactive tables.';\n",
              "          element.innerHTML = '';\n",
              "          dataTable['output_type'] = 'display_data';\n",
              "          await google.colab.output.renderOutput(dataTable, element);\n",
              "          const docLink = document.createElement('div');\n",
              "          docLink.innerHTML = docLinkHtml;\n",
              "          element.appendChild(docLink);\n",
              "        }\n",
              "      </script>\n",
              "    </div>\n",
              "  </div>\n",
              "  "
            ],
            "text/plain": [
              "                                          Review Body  Star Rating\n",
              "0   You will love this book.  It is a hard long re...          5.0\n",
              "2   This is a fun and entertaining book about lear...          5.0\n",
              "3   Started a big slow, but once into it the autho...          5.0\n",
              "6   Ugly Impostor, discernible face, self esteem r...          5.0\n",
              "8   Then I watch American Masters (PBS) featuring ...          5.0\n",
              "10  My granddaughter got me interested bin this se...          5.0\n",
              "15  I discovered this book just a few days after 9...          5.0\n",
              "16  This rewrite of an older story is a vast impro...          5.0\n",
              "18  An incedibly well written book. His writing is...          5.0\n",
              "19  Great book with lots of twists and turns.  One...          5.0"
            ]
          },
          "metadata": {},
          "execution_count": 12
        }
      ]
    },
    {
      "cell_type": "code",
      "source": [
        "data_sample = data_subset.sample(frac=0.01) # Return a random sample of items from an axis of object."
      ],
      "metadata": {
        "id": "Yodsbu3lTU1E"
      },
      "execution_count": null,
      "outputs": []
    },
    {
      "cell_type": "code",
      "source": [
        "data_sample.shape"
      ],
      "metadata": {
        "colab": {
          "base_uri": "https://localhost:8080/"
        },
        "id": "S3CagM8KTbLB",
        "outputId": "4393a72c-20eb-47fb-8f48-987cd3ba9e7a"
      },
      "execution_count": null,
      "outputs": [
        {
          "output_type": "execute_result",
          "data": {
            "text/plain": [
              "(787, 2)"
            ]
          },
          "metadata": {},
          "execution_count": 14
        }
      ]
    },
    {
      "cell_type": "markdown",
      "source": [
        "Converting reviews to classes --> 1 or 0"
      ],
      "metadata": {
        "id": "-K5xqYhvh74M"
      }
    },
    {
      "cell_type": "code",
      "source": [
        "def convert_to_string(rating):\n",
        "  if rating == 5.0:\n",
        "    return 1\n",
        "  else:\n",
        "    return 0\n",
        "\n",
        " # Labeling the data star rating 5, label = 1 else label = 0\n",
        "data_sample['label'] = data_sample['Star Rating'].apply(convert_to_string)"
      ],
      "metadata": {
        "id": "ejOsIvXCTjh-"
      },
      "execution_count": null,
      "outputs": []
    },
    {
      "cell_type": "code",
      "source": [
        "data_sample.head(10)"
      ],
      "metadata": {
        "colab": {
          "base_uri": "https://localhost:8080/",
          "height": 363
        },
        "id": "J8lCRp6ZTxY2",
        "outputId": "97eeca20-ebf3-476f-e13a-0ca0495b6b66"
      },
      "execution_count": null,
      "outputs": [
        {
          "output_type": "execute_result",
          "data": {
            "text/html": [
              "\n",
              "  <div id=\"df-e6ab1291-1aad-4d09-94c3-4c721c1936d9\">\n",
              "    <div class=\"colab-df-container\">\n",
              "      <div>\n",
              "<style scoped>\n",
              "    .dataframe tbody tr th:only-of-type {\n",
              "        vertical-align: middle;\n",
              "    }\n",
              "\n",
              "    .dataframe tbody tr th {\n",
              "        vertical-align: top;\n",
              "    }\n",
              "\n",
              "    .dataframe thead th {\n",
              "        text-align: right;\n",
              "    }\n",
              "</style>\n",
              "<table border=\"1\" class=\"dataframe\">\n",
              "  <thead>\n",
              "    <tr style=\"text-align: right;\">\n",
              "      <th></th>\n",
              "      <th>Review Body</th>\n",
              "      <th>Star Rating</th>\n",
              "      <th>label</th>\n",
              "    </tr>\n",
              "  </thead>\n",
              "  <tbody>\n",
              "    <tr>\n",
              "      <th>83945</th>\n",
              "      <td>No real strory-line nor entertaining. My boys ...</td>\n",
              "      <td>1.0</td>\n",
              "      <td>0</td>\n",
              "    </tr>\n",
              "    <tr>\n",
              "      <th>72999</th>\n",
              "      <td>I love these books! Relax, unwind and let your...</td>\n",
              "      <td>5.0</td>\n",
              "      <td>1</td>\n",
              "    </tr>\n",
              "    <tr>\n",
              "      <th>50112</th>\n",
              "      <td>Judge Judy Sheindlin writes another excellent ...</td>\n",
              "      <td>5.0</td>\n",
              "      <td>1</td>\n",
              "    </tr>\n",
              "    <tr>\n",
              "      <th>38090</th>\n",
              "      <td>Dean Koontz books from Dragon Tears, to Mr. Mu...</td>\n",
              "      <td>1.0</td>\n",
              "      <td>0</td>\n",
              "    </tr>\n",
              "    <tr>\n",
              "      <th>10445</th>\n",
              "      <td>gift</td>\n",
              "      <td>5.0</td>\n",
              "      <td>1</td>\n",
              "    </tr>\n",
              "    <tr>\n",
              "      <th>21664</th>\n",
              "      <td>My daughter was so excited to get this book an...</td>\n",
              "      <td>5.0</td>\n",
              "      <td>1</td>\n",
              "    </tr>\n",
              "    <tr>\n",
              "      <th>55997</th>\n",
              "      <td>I was thrilled to find this novel at the secon...</td>\n",
              "      <td>5.0</td>\n",
              "      <td>1</td>\n",
              "    </tr>\n",
              "    <tr>\n",
              "      <th>124989</th>\n",
              "      <td>Thank you for this beautifully written book.</td>\n",
              "      <td>5.0</td>\n",
              "      <td>1</td>\n",
              "    </tr>\n",
              "    <tr>\n",
              "      <th>32669</th>\n",
              "      <td>Cowboy is a seemingly simple story of love and...</td>\n",
              "      <td>5.0</td>\n",
              "      <td>1</td>\n",
              "    </tr>\n",
              "    <tr>\n",
              "      <th>56423</th>\n",
              "      <td>Quickly shipped. Exactly as described. Thank you!</td>\n",
              "      <td>5.0</td>\n",
              "      <td>1</td>\n",
              "    </tr>\n",
              "  </tbody>\n",
              "</table>\n",
              "</div>\n",
              "      <button class=\"colab-df-convert\" onclick=\"convertToInteractive('df-e6ab1291-1aad-4d09-94c3-4c721c1936d9')\"\n",
              "              title=\"Convert this dataframe to an interactive table.\"\n",
              "              style=\"display:none;\">\n",
              "        \n",
              "  <svg xmlns=\"http://www.w3.org/2000/svg\" height=\"24px\"viewBox=\"0 0 24 24\"\n",
              "       width=\"24px\">\n",
              "    <path d=\"M0 0h24v24H0V0z\" fill=\"none\"/>\n",
              "    <path d=\"M18.56 5.44l.94 2.06.94-2.06 2.06-.94-2.06-.94-.94-2.06-.94 2.06-2.06.94zm-11 1L8.5 8.5l.94-2.06 2.06-.94-2.06-.94L8.5 2.5l-.94 2.06-2.06.94zm10 10l.94 2.06.94-2.06 2.06-.94-2.06-.94-.94-2.06-.94 2.06-2.06.94z\"/><path d=\"M17.41 7.96l-1.37-1.37c-.4-.4-.92-.59-1.43-.59-.52 0-1.04.2-1.43.59L10.3 9.45l-7.72 7.72c-.78.78-.78 2.05 0 2.83L4 21.41c.39.39.9.59 1.41.59.51 0 1.02-.2 1.41-.59l7.78-7.78 2.81-2.81c.8-.78.8-2.07 0-2.86zM5.41 20L4 18.59l7.72-7.72 1.47 1.35L5.41 20z\"/>\n",
              "  </svg>\n",
              "      </button>\n",
              "      \n",
              "  <style>\n",
              "    .colab-df-container {\n",
              "      display:flex;\n",
              "      flex-wrap:wrap;\n",
              "      gap: 12px;\n",
              "    }\n",
              "\n",
              "    .colab-df-convert {\n",
              "      background-color: #E8F0FE;\n",
              "      border: none;\n",
              "      border-radius: 50%;\n",
              "      cursor: pointer;\n",
              "      display: none;\n",
              "      fill: #1967D2;\n",
              "      height: 32px;\n",
              "      padding: 0 0 0 0;\n",
              "      width: 32px;\n",
              "    }\n",
              "\n",
              "    .colab-df-convert:hover {\n",
              "      background-color: #E2EBFA;\n",
              "      box-shadow: 0px 1px 2px rgba(60, 64, 67, 0.3), 0px 1px 3px 1px rgba(60, 64, 67, 0.15);\n",
              "      fill: #174EA6;\n",
              "    }\n",
              "\n",
              "    [theme=dark] .colab-df-convert {\n",
              "      background-color: #3B4455;\n",
              "      fill: #D2E3FC;\n",
              "    }\n",
              "\n",
              "    [theme=dark] .colab-df-convert:hover {\n",
              "      background-color: #434B5C;\n",
              "      box-shadow: 0px 1px 3px 1px rgba(0, 0, 0, 0.15);\n",
              "      filter: drop-shadow(0px 1px 2px rgba(0, 0, 0, 0.3));\n",
              "      fill: #FFFFFF;\n",
              "    }\n",
              "  </style>\n",
              "\n",
              "      <script>\n",
              "        const buttonEl =\n",
              "          document.querySelector('#df-e6ab1291-1aad-4d09-94c3-4c721c1936d9 button.colab-df-convert');\n",
              "        buttonEl.style.display =\n",
              "          google.colab.kernel.accessAllowed ? 'block' : 'none';\n",
              "\n",
              "        async function convertToInteractive(key) {\n",
              "          const element = document.querySelector('#df-e6ab1291-1aad-4d09-94c3-4c721c1936d9');\n",
              "          const dataTable =\n",
              "            await google.colab.kernel.invokeFunction('convertToInteractive',\n",
              "                                                     [key], {});\n",
              "          if (!dataTable) return;\n",
              "\n",
              "          const docLinkHtml = 'Like what you see? Visit the ' +\n",
              "            '<a target=\"_blank\" href=https://colab.research.google.com/notebooks/data_table.ipynb>data table notebook</a>'\n",
              "            + ' to learn more about interactive tables.';\n",
              "          element.innerHTML = '';\n",
              "          dataTable['output_type'] = 'display_data';\n",
              "          await google.colab.output.renderOutput(dataTable, element);\n",
              "          const docLink = document.createElement('div');\n",
              "          docLink.innerHTML = docLinkHtml;\n",
              "          element.appendChild(docLink);\n",
              "        }\n",
              "      </script>\n",
              "    </div>\n",
              "  </div>\n",
              "  "
            ],
            "text/plain": [
              "                                              Review Body  Star Rating  label\n",
              "83945   No real strory-line nor entertaining. My boys ...          1.0      0\n",
              "72999   I love these books! Relax, unwind and let your...          5.0      1\n",
              "50112   Judge Judy Sheindlin writes another excellent ...          5.0      1\n",
              "38090   Dean Koontz books from Dragon Tears, to Mr. Mu...          1.0      0\n",
              "10445                                                gift          5.0      1\n",
              "21664   My daughter was so excited to get this book an...          5.0      1\n",
              "55997   I was thrilled to find this novel at the secon...          5.0      1\n",
              "124989       Thank you for this beautifully written book.          5.0      1\n",
              "32669   Cowboy is a seemingly simple story of love and...          5.0      1\n",
              "56423   Quickly shipped. Exactly as described. Thank you!          5.0      1"
            ]
          },
          "metadata": {},
          "execution_count": 16
        }
      ]
    },
    {
      "cell_type": "code",
      "metadata": {
        "id": "85pZjJ5e-Tx7",
        "outputId": "a52d6b0d-8a42-4694-ba64-5f6a0516da44",
        "colab": {
          "base_uri": "https://localhost:8080/"
        }
      },
      "source": [
        "# reshaping data to adjust according to ELMO\n",
        "X = np.array(data_sample['Review Body'].tolist()).reshape(data_sample.shape[0], 1)\n",
        "# Training Data np.array is used to create the arrays.\n",
        "y = np.array(data_sample['label'].tolist()).reshape(data_sample.shape[0], 1)\n",
        "# Training Labels\n",
        "X.shape, y.shape\n",
        "print('First Data',X[1])\n",
        "print('First Label',y[1])"
      ],
      "execution_count": null,
      "outputs": [
        {
          "output_type": "stream",
          "name": "stdout",
          "text": [
            "First Data ['I love these books! Relax, unwind and let your mind escape while you lay down the color in any fashion you choose. The patterns are enjoyable. The paper quality is pretty good. Pencils or gel pens recommended as the detail can be very small. I will be ordering more since I think a coloring book and a set of pencils will make a great gift or stocking stuffer.']\n",
            "First Label [1]\n"
          ]
        }
      ]
    },
    {
      "cell_type": "code",
      "source": [
        "model.fit(X, y,batch_size=16,epochs=5)"
      ],
      "metadata": {
        "colab": {
          "base_uri": "https://localhost:8080/"
        },
        "id": "HBMcVXtAFBbA",
        "outputId": "a20bb72e-3cc6-42d2-fe97-5e5ab58d76e4"
      },
      "execution_count": null,
      "outputs": [
        {
          "output_type": "stream",
          "name": "stdout",
          "text": [
            "WARNING:tensorflow:From /usr/local/lib/python3.7/dist-packages/tensorflow_core/python/ops/math_grad.py:1424: where (from tensorflow.python.ops.array_ops) is deprecated and will be removed in a future version.\n",
            "Instructions for updating:\n",
            "Use tf.where in 2.0, which has the same broadcast rule as np.where\n",
            "WARNING:tensorflow:From /usr/local/lib/python3.7/dist-packages/tensorflow_core/python/ops/math_grad.py:1424: where (from tensorflow.python.ops.array_ops) is deprecated and will be removed in a future version.\n",
            "Instructions for updating:\n",
            "Use tf.where in 2.0, which has the same broadcast rule as np.where\n",
            "Train on 787 samples\n",
            "787/787 [==============================] - 194s 247ms/sample - loss: 1.0234 - acc: 0.7523\n",
            "787/787 [==============================] - 197s 248ms/sample - loss: 0.7264 - acc: 0.8010\n",
            "787/787 [==============================] - 200s 249ms/sample - loss: 0.4294 - acc: 0.8497\n",
            "787/787 [==============================] - 203s 250ms/sample - loss: 0.5207 - acc: 0.8932\n",
            "787/787 [==============================] - 206s 251ms/sample - loss: 0.5186 - acc: 0.8945\n"
          ]
        },
        {
          "output_type": "execute_result",
          "data": {
            "text/plain": [
              "<keras.src.callbacks.history.History at 0x7826e73f11b0>"
            ]
          },
          "metadata": {},
          "execution_count": 14
        }
      ]
    },
    {
      "cell_type": "code",
      "metadata": {
        "id": "vXO0YWtY-nrP",
        "colab": {
          "base_uri": "https://localhost:8080/"
        },
        "outputId": "da2e2730-47f2-4072-e36c-0419f86e83dc"
      },
      "source": [
        "model.summary()"
      ],
      "execution_count": null,
      "outputs": [
        {
          "output_type": "stream",
          "name": "stdout",
          "text": [
            "Model: \"sequential\"\n",
            "_________________________________________________________________\n",
            "Layer (type)                 Output Shape              Param #   \n",
            "=================================================================\n",
            "elmo_embedding_layer (ElmoEm (None, 1024)              4         \n",
            "_________________________________________________________________\n",
            "dense (Dense)                (None, 1)                 1025      \n",
            "=================================================================\n",
            "Total params: 1,029\n",
            "Trainable params: 1,029\n",
            "Non-trainable params: 0\n",
            "_________________________________________________________________\n"
          ]
        }
      ]
    },
    {
      "cell_type": "code",
      "source": [
        "test_loss, test_accuracy = model.evaluate(X_test, y_test, verbose=1)\n",
        "print(f\"Test Loss: {test_loss:.4f} - Test Accuracy: {test_accuracy:.4f}\")"
      ],
      "metadata": {
        "colab": {
          "base_uri": "https://localhost:8080/"
        },
        "id": "ebIRe3NFJDfR",
        "outputId": "8afd4f0d-07c8-4780-8137-e67bc8cfdc4f"
      },
      "execution_count": null,
      "outputs": [
        {
          "output_type": "stream",
          "name": "stdout",
          "text": [
            "150/150 [==============================] - 5s 33ms/sample - loss: 0.4513 - acc: 0.9034\n",
            "Test Loss: 0.4513 - Test Accuracy: 0.9034\n"
          ]
        }
      ]
    },
    {
      "cell_type": "code",
      "metadata": {
        "id": "B44AaTUhv_w7",
        "outputId": "d4f5d9b6-5bba-4d83-bdd9-2cbada9b5da8",
        "colab": {
          "base_uri": "https://localhost:8080/"
        }
      },
      "source": [
        "model.trainable_weights\n",
        "# These are the weights which are re-trained using our data. These weights can later be used to productionize\n",
        "# this model.\n",
        "# trainable_weights is the list of those weights that are meant to be updated minimize the loss during training."
      ],
      "execution_count": null,
      "outputs": [
        {
          "output_type": "execute_result",
          "data": {
            "text/plain": [
              "[<tf.Variable 'elmo_embedding_layer_module/aggregation/weights:0' shape=(3,) dtype=float32>,\n",
              " <tf.Variable 'elmo_embedding_layer_module/aggregation/scaling:0' shape=() dtype=float32>,\n",
              " <tf.Variable 'dense/kernel:0' shape=(1024, 1) dtype=float32>,\n",
              " <tf.Variable 'dense/bias:0' shape=(1,) dtype=float32>]"
            ]
          },
          "metadata": {},
          "execution_count": 20
        }
      ]
    },
    {
      "cell_type": "code",
      "metadata": {
        "id": "Gr_AJYCZwZlg"
      },
      "source": [
        "elmo = model.layers[0].elmo # Getting the elmo layer information in a variable"
      ],
      "execution_count": null,
      "outputs": []
    },
    {
      "cell_type": "code",
      "metadata": {
        "id": "62QVQ2fjxAQf",
        "outputId": "e0a678c9-aef8-4536-c5da-c06726f0874f",
        "colab": {
          "base_uri": "https://localhost:8080/"
        }
      },
      "source": [
        "elmo.variables\n"
      ],
      "execution_count": null,
      "outputs": [
        {
          "output_type": "execute_result",
          "data": {
            "text/plain": [
              "[<tf.Variable 'elmo_embedding_layer_module/aggregation/scaling:0' shape=() dtype=float32>,\n",
              " <tf.Variable 'elmo_embedding_layer_module/aggregation/weights:0' shape=(3,) dtype=float32>,\n",
              " <tf.Variable 'elmo_embedding_layer_module/bilm/CNN/W_cnn_0:0' shape=(1, 1, 16, 32) dtype=float32>,\n",
              " <tf.Variable 'elmo_embedding_layer_module/bilm/CNN/W_cnn_1:0' shape=(1, 2, 16, 32) dtype=float32>,\n",
              " <tf.Variable 'elmo_embedding_layer_module/bilm/CNN/W_cnn_2:0' shape=(1, 3, 16, 64) dtype=float32>,\n",
              " <tf.Variable 'elmo_embedding_layer_module/bilm/CNN/W_cnn_3:0' shape=(1, 4, 16, 128) dtype=float32>,\n",
              " <tf.Variable 'elmo_embedding_layer_module/bilm/CNN/W_cnn_4:0' shape=(1, 5, 16, 256) dtype=float32>,\n",
              " <tf.Variable 'elmo_embedding_layer_module/bilm/CNN/W_cnn_5:0' shape=(1, 6, 16, 512) dtype=float32>,\n",
              " <tf.Variable 'elmo_embedding_layer_module/bilm/CNN/W_cnn_6:0' shape=(1, 7, 16, 1024) dtype=float32>,\n",
              " <tf.Variable 'elmo_embedding_layer_module/bilm/CNN/b_cnn_0:0' shape=(32,) dtype=float32>,\n",
              " <tf.Variable 'elmo_embedding_layer_module/bilm/CNN/b_cnn_1:0' shape=(32,) dtype=float32>,\n",
              " <tf.Variable 'elmo_embedding_layer_module/bilm/CNN/b_cnn_2:0' shape=(64,) dtype=float32>,\n",
              " <tf.Variable 'elmo_embedding_layer_module/bilm/CNN/b_cnn_3:0' shape=(128,) dtype=float32>,\n",
              " <tf.Variable 'elmo_embedding_layer_module/bilm/CNN/b_cnn_4:0' shape=(256,) dtype=float32>,\n",
              " <tf.Variable 'elmo_embedding_layer_module/bilm/CNN/b_cnn_5:0' shape=(512,) dtype=float32>,\n",
              " <tf.Variable 'elmo_embedding_layer_module/bilm/CNN/b_cnn_6:0' shape=(1024,) dtype=float32>,\n",
              " <tf.Variable 'elmo_embedding_layer_module/bilm/CNN_high_0/W_carry:0' shape=(2048, 2048) dtype=float32>,\n",
              " <tf.Variable 'elmo_embedding_layer_module/bilm/CNN_high_0/W_transform:0' shape=(2048, 2048) dtype=float32>,\n",
              " <tf.Variable 'elmo_embedding_layer_module/bilm/CNN_high_0/b_carry:0' shape=(2048,) dtype=float32>,\n",
              " <tf.Variable 'elmo_embedding_layer_module/bilm/CNN_high_0/b_transform:0' shape=(2048,) dtype=float32>,\n",
              " <tf.Variable 'elmo_embedding_layer_module/bilm/CNN_high_1/W_carry:0' shape=(2048, 2048) dtype=float32>,\n",
              " <tf.Variable 'elmo_embedding_layer_module/bilm/CNN_high_1/W_transform:0' shape=(2048, 2048) dtype=float32>,\n",
              " <tf.Variable 'elmo_embedding_layer_module/bilm/CNN_high_1/b_carry:0' shape=(2048,) dtype=float32>,\n",
              " <tf.Variable 'elmo_embedding_layer_module/bilm/CNN_high_1/b_transform:0' shape=(2048,) dtype=float32>,\n",
              " <tf.Variable 'elmo_embedding_layer_module/bilm/CNN_proj/W_proj:0' shape=(2048, 512) dtype=float32>,\n",
              " <tf.Variable 'elmo_embedding_layer_module/bilm/CNN_proj/b_proj:0' shape=(512,) dtype=float32>,\n",
              " <tf.Variable 'elmo_embedding_layer_module/bilm/RNN_0/RNN/MultiRNNCell/Cell0/rnn/lstm_cell/bias:0' shape=(16384,) dtype=float32>,\n",
              " <tf.Variable 'elmo_embedding_layer_module/bilm/RNN_0/RNN/MultiRNNCell/Cell0/rnn/lstm_cell/kernel:0' shape=(1024, 16384) dtype=float32>,\n",
              " <tf.Variable 'elmo_embedding_layer_module/bilm/RNN_0/RNN/MultiRNNCell/Cell0/rnn/lstm_cell/projection/kernel:0' shape=(4096, 512) dtype=float32>,\n",
              " <tf.Variable 'elmo_embedding_layer_module/bilm/RNN_0/RNN/MultiRNNCell/Cell1/rnn/lstm_cell/bias:0' shape=(16384,) dtype=float32>,\n",
              " <tf.Variable 'elmo_embedding_layer_module/bilm/RNN_0/RNN/MultiRNNCell/Cell1/rnn/lstm_cell/kernel:0' shape=(1024, 16384) dtype=float32>,\n",
              " <tf.Variable 'elmo_embedding_layer_module/bilm/RNN_0/RNN/MultiRNNCell/Cell1/rnn/lstm_cell/projection/kernel:0' shape=(4096, 512) dtype=float32>,\n",
              " <tf.Variable 'elmo_embedding_layer_module/bilm/RNN_1/RNN/MultiRNNCell/Cell0/rnn/lstm_cell/bias:0' shape=(16384,) dtype=float32>,\n",
              " <tf.Variable 'elmo_embedding_layer_module/bilm/RNN_1/RNN/MultiRNNCell/Cell0/rnn/lstm_cell/kernel:0' shape=(1024, 16384) dtype=float32>,\n",
              " <tf.Variable 'elmo_embedding_layer_module/bilm/RNN_1/RNN/MultiRNNCell/Cell0/rnn/lstm_cell/projection/kernel:0' shape=(4096, 512) dtype=float32>,\n",
              " <tf.Variable 'elmo_embedding_layer_module/bilm/RNN_1/RNN/MultiRNNCell/Cell1/rnn/lstm_cell/bias:0' shape=(16384,) dtype=float32>,\n",
              " <tf.Variable 'elmo_embedding_layer_module/bilm/RNN_1/RNN/MultiRNNCell/Cell1/rnn/lstm_cell/kernel:0' shape=(1024, 16384) dtype=float32>,\n",
              " <tf.Variable 'elmo_embedding_layer_module/bilm/RNN_1/RNN/MultiRNNCell/Cell1/rnn/lstm_cell/projection/kernel:0' shape=(4096, 512) dtype=float32>,\n",
              " <tf.Variable 'elmo_embedding_layer_module/bilm/char_embed:0' shape=(261, 16) dtype=float32>]"
            ]
          },
          "metadata": {},
          "execution_count": 22
        }
      ]
    },
    {
      "cell_type": "code",
      "metadata": {
        "outputId": "137af792-0dda-40e4-f0f1-4cbe2009fe2e",
        "colab": {
          "base_uri": "https://localhost:8080/"
        },
        "id": "k-vVuxhGi32g"
      },
      "source": [
        "elmo.variables\n",
        "# These are internal ELMO Layers.\n",
        "# You can see the power of transfer learning here. ELMO is already a trained model. You can see the layers used during initial training.\n",
        "# Once trained, it learns the basic pattern of English language which gets transfered to different data.\n",
        "# In our Data, we are using this trained model to learn positive and negative review.\n",
        "# This helps not focus on building your own deep learning model layers, but instead, use trained ELMO as plug and play."
      ],
      "execution_count": null,
      "outputs": [
        {
          "output_type": "execute_result",
          "data": {
            "text/plain": [
              "[<tf.Variable 'elmo_embedding_layer_module/aggregation/scaling:0' shape=() dtype=float32>,\n",
              " <tf.Variable 'elmo_embedding_layer_module/aggregation/weights:0' shape=(3,) dtype=float32>,\n",
              " <tf.Variable 'elmo_embedding_layer_module/bilm/CNN/W_cnn_0:0' shape=(1, 1, 16, 32) dtype=float32>,\n",
              " <tf.Variable 'elmo_embedding_layer_module/bilm/CNN/W_cnn_1:0' shape=(1, 2, 16, 32) dtype=float32>,\n",
              " <tf.Variable 'elmo_embedding_layer_module/bilm/CNN/W_cnn_2:0' shape=(1, 3, 16, 64) dtype=float32>,\n",
              " <tf.Variable 'elmo_embedding_layer_module/bilm/CNN/W_cnn_3:0' shape=(1, 4, 16, 128) dtype=float32>,\n",
              " <tf.Variable 'elmo_embedding_layer_module/bilm/CNN/W_cnn_4:0' shape=(1, 5, 16, 256) dtype=float32>,\n",
              " <tf.Variable 'elmo_embedding_layer_module/bilm/CNN/W_cnn_5:0' shape=(1, 6, 16, 512) dtype=float32>,\n",
              " <tf.Variable 'elmo_embedding_layer_module/bilm/CNN/W_cnn_6:0' shape=(1, 7, 16, 1024) dtype=float32>,\n",
              " <tf.Variable 'elmo_embedding_layer_module/bilm/CNN/b_cnn_0:0' shape=(32,) dtype=float32>,\n",
              " <tf.Variable 'elmo_embedding_layer_module/bilm/CNN/b_cnn_1:0' shape=(32,) dtype=float32>,\n",
              " <tf.Variable 'elmo_embedding_layer_module/bilm/CNN/b_cnn_2:0' shape=(64,) dtype=float32>,\n",
              " <tf.Variable 'elmo_embedding_layer_module/bilm/CNN/b_cnn_3:0' shape=(128,) dtype=float32>,\n",
              " <tf.Variable 'elmo_embedding_layer_module/bilm/CNN/b_cnn_4:0' shape=(256,) dtype=float32>,\n",
              " <tf.Variable 'elmo_embedding_layer_module/bilm/CNN/b_cnn_5:0' shape=(512,) dtype=float32>,\n",
              " <tf.Variable 'elmo_embedding_layer_module/bilm/CNN/b_cnn_6:0' shape=(1024,) dtype=float32>,\n",
              " <tf.Variable 'elmo_embedding_layer_module/bilm/CNN_high_0/W_carry:0' shape=(2048, 2048) dtype=float32>,\n",
              " <tf.Variable 'elmo_embedding_layer_module/bilm/CNN_high_0/W_transform:0' shape=(2048, 2048) dtype=float32>,\n",
              " <tf.Variable 'elmo_embedding_layer_module/bilm/CNN_high_0/b_carry:0' shape=(2048,) dtype=float32>,\n",
              " <tf.Variable 'elmo_embedding_layer_module/bilm/CNN_high_0/b_transform:0' shape=(2048,) dtype=float32>,\n",
              " <tf.Variable 'elmo_embedding_layer_module/bilm/CNN_high_1/W_carry:0' shape=(2048, 2048) dtype=float32>,\n",
              " <tf.Variable 'elmo_embedding_layer_module/bilm/CNN_high_1/W_transform:0' shape=(2048, 2048) dtype=float32>,\n",
              " <tf.Variable 'elmo_embedding_layer_module/bilm/CNN_high_1/b_carry:0' shape=(2048,) dtype=float32>,\n",
              " <tf.Variable 'elmo_embedding_layer_module/bilm/CNN_high_1/b_transform:0' shape=(2048,) dtype=float32>,\n",
              " <tf.Variable 'elmo_embedding_layer_module/bilm/CNN_proj/W_proj:0' shape=(2048, 512) dtype=float32>,\n",
              " <tf.Variable 'elmo_embedding_layer_module/bilm/CNN_proj/b_proj:0' shape=(512,) dtype=float32>,\n",
              " <tf.Variable 'elmo_embedding_layer_module/bilm/RNN_0/RNN/MultiRNNCell/Cell0/rnn/lstm_cell/bias:0' shape=(16384,) dtype=float32>,\n",
              " <tf.Variable 'elmo_embedding_layer_module/bilm/RNN_0/RNN/MultiRNNCell/Cell0/rnn/lstm_cell/kernel:0' shape=(1024, 16384) dtype=float32>,\n",
              " <tf.Variable 'elmo_embedding_layer_module/bilm/RNN_0/RNN/MultiRNNCell/Cell0/rnn/lstm_cell/projection/kernel:0' shape=(4096, 512) dtype=float32>,\n",
              " <tf.Variable 'elmo_embedding_layer_module/bilm/RNN_0/RNN/MultiRNNCell/Cell1/rnn/lstm_cell/bias:0' shape=(16384,) dtype=float32>,\n",
              " <tf.Variable 'elmo_embedding_layer_module/bilm/RNN_0/RNN/MultiRNNCell/Cell1/rnn/lstm_cell/kernel:0' shape=(1024, 16384) dtype=float32>,\n",
              " <tf.Variable 'elmo_embedding_layer_module/bilm/RNN_0/RNN/MultiRNNCell/Cell1/rnn/lstm_cell/projection/kernel:0' shape=(4096, 512) dtype=float32>,\n",
              " <tf.Variable 'elmo_embedding_layer_module/bilm/RNN_1/RNN/MultiRNNCell/Cell0/rnn/lstm_cell/bias:0' shape=(16384,) dtype=float32>,\n",
              " <tf.Variable 'elmo_embedding_layer_module/bilm/RNN_1/RNN/MultiRNNCell/Cell0/rnn/lstm_cell/kernel:0' shape=(1024, 16384) dtype=float32>,\n",
              " <tf.Variable 'elmo_embedding_layer_module/bilm/RNN_1/RNN/MultiRNNCell/Cell0/rnn/lstm_cell/projection/kernel:0' shape=(4096, 512) dtype=float32>,\n",
              " <tf.Variable 'elmo_embedding_layer_module/bilm/RNN_1/RNN/MultiRNNCell/Cell1/rnn/lstm_cell/bias:0' shape=(16384,) dtype=float32>,\n",
              " <tf.Variable 'elmo_embedding_layer_module/bilm/RNN_1/RNN/MultiRNNCell/Cell1/rnn/lstm_cell/kernel:0' shape=(1024, 16384) dtype=float32>,\n",
              " <tf.Variable 'elmo_embedding_layer_module/bilm/RNN_1/RNN/MultiRNNCell/Cell1/rnn/lstm_cell/projection/kernel:0' shape=(4096, 512) dtype=float32>,\n",
              " <tf.Variable 'elmo_embedding_layer_module/bilm/char_embed:0' shape=(261, 16) dtype=float32>]"
            ]
          },
          "metadata": {},
          "execution_count": 23
        }
      ]
    },
    {
      "cell_type": "code",
      "metadata": {
        "id": "zZB8f-_pxJ2N",
        "outputId": "9830a1ce-d1ef-412e-cf5e-f37d022707d6",
        "colab": {
          "base_uri": "https://localhost:8080/"
        }
      },
      "source": [
        "model.layers[0].trainable_weights # Trainable weights for elmo embedding layer"
      ],
      "execution_count": null,
      "outputs": [
        {
          "output_type": "execute_result",
          "data": {
            "text/plain": [
              "[<tf.Variable 'elmo_embedding_layer_module/aggregation/weights:0' shape=(3,) dtype=float32>,\n",
              " <tf.Variable 'elmo_embedding_layer_module/aggregation/scaling:0' shape=() dtype=float32>]"
            ]
          },
          "metadata": {},
          "execution_count": 24
        }
      ]
    },
    {
      "cell_type": "code",
      "metadata": {
        "id": "eZ8YljGYxfqj",
        "outputId": "a3176e0e-dc66-4dbb-e286-bb864aee3f36",
        "colab": {
          "base_uri": "https://localhost:8080/"
        }
      },
      "source": [
        "model.predict([[\"I love this book and will recommend to everyone!!\"]])\n",
        "# you can use model.predict to get the sentiment rating of reviews.\n",
        "# however the results are not promising because we only trained for one epoch. You can train it for more epochs and check the results."
      ],
      "execution_count": null,
      "outputs": [
        {
          "output_type": "execute_result",
          "data": {
            "text/plain": [
              "array([[0.8117869]], dtype=float32)"
            ]
          },
          "metadata": {},
          "execution_count": 29
        }
      ]
    },
    {
      "cell_type": "code",
      "metadata": {
        "id": "0IvIcjVi2l4k",
        "colab": {
          "base_uri": "https://localhost:8080/"
        },
        "outputId": "e721a85c-526a-493b-c779-88eb3b20d602"
      },
      "source": [
        "model.predict([[\"I love this book and will recommend to everyone!!\"]])"
      ],
      "execution_count": null,
      "outputs": [
        {
          "output_type": "execute_result",
          "data": {
            "text/plain": [
              "array([[0.8117869]], dtype=float32)"
            ]
          },
          "metadata": {},
          "execution_count": 28
        }
      ]
    }
  ]
}